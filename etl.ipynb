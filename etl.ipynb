{
 "metadata": {
  "language_info": {
   "codemirror_mode": {
    "name": "ipython",
    "version": 3
   },
   "file_extension": ".py",
   "mimetype": "text/x-python",
   "name": "python",
   "nbconvert_exporter": "python",
   "pygments_lexer": "ipython3",
   "version": "3.7.7-final"
  },
  "orig_nbformat": 2,
  "kernelspec": {
   "name": "python3",
   "display_name": "Python 3.7.7 64-bit",
   "metadata": {
    "interpreter": {
     "hash": "aee8b7b246df8f9039afb4144a1f6fd8d2ca17a180786b69acc140d282b71a49"
    }
   }
  }
 },
 "nbformat": 4,
 "nbformat_minor": 2,
 "cells": [
  {
   "cell_type": "code",
   "execution_count": 8,
   "metadata": {},
   "outputs": [],
   "source": [
    "import os\n",
    "from google.cloud import bigquery\n",
    "from datetime import datetime"
   ]
  },
  {
   "cell_type": "code",
   "execution_count": 16,
   "metadata": {},
   "outputs": [],
   "source": [
    "# Export Google Cloud Credentials\n",
    "os.environ['GOOGLE_APPLICATION_CREDENTIALS'] ='/Users/karl/git/mobilityframework-pipeline/bigquery-service.json'\n",
    "\n",
    "# Initialize Big Query Client\n",
    "client = bigquery.Client(project='flas-h')"
   ]
  },
  {
   "cell_type": "code",
   "execution_count": 14,
   "metadata": {},
   "outputs": [],
   "source": [
    "args = {\n",
    "    'execution_date': datetime.today().strftime('%Y-%m-%d'),\n",
    "    'city': 'Hamburg'\n",
    "    }"
   ]
  },
  {
   "cell_type": "code",
   "execution_count": 17,
   "metadata": {},
   "outputs": [
    {
     "output_type": "execute_result",
     "data": {
      "text/plain": [
       "      city  country        lat        lng model    sign    code energyLevel  \\\n",
       "0  Hamburg  Germany  53.540109  10.009807  okai  123WMV  280488          15   \n",
       "1  Hamburg  Germany  53.540109  10.009807  okai  123WMV  280488          15   \n",
       "2  Hamburg  Germany  53.540109  10.009807  okai  123WMV  280488          15   \n",
       "3  Hamburg  Germany  53.540109  10.009807  okai  123WMV  280488          15   \n",
       "4  Hamburg  Germany  53.540109  10.009807  okai  123WMV  280488          15   \n",
       "\n",
       "  energyType          lastActivity manufacturer provider        time  yyyy  \\\n",
       "0   electric  2021-03-23T23:56:57Z         tier     tier  1616544846  2021   \n",
       "1   electric  2021-03-23T23:56:57Z         tier     tier  1616544330  2021   \n",
       "2   electric  2021-03-23T23:56:57Z         tier     tier  1616544097  2021   \n",
       "3   electric  2021-03-23T23:56:57Z         tier     tier  1616544568  2021   \n",
       "4   electric  2021-03-23T23:56:57Z         tier     tier  1616544440  2021   \n",
       "\n",
       "        mm          dd  category  \n",
       "0  2021-03  2021-03-24  escooter  \n",
       "1  2021-03  2021-03-24  escooter  \n",
       "2  2021-03  2021-03-24  escooter  \n",
       "3  2021-03  2021-03-24  escooter  \n",
       "4  2021-03  2021-03-24  escooter  "
      ],
      "text/html": "<div>\n<style scoped>\n    .dataframe tbody tr th:only-of-type {\n        vertical-align: middle;\n    }\n\n    .dataframe tbody tr th {\n        vertical-align: top;\n    }\n\n    .dataframe thead th {\n        text-align: right;\n    }\n</style>\n<table border=\"1\" class=\"dataframe\">\n  <thead>\n    <tr style=\"text-align: right;\">\n      <th></th>\n      <th>city</th>\n      <th>country</th>\n      <th>lat</th>\n      <th>lng</th>\n      <th>model</th>\n      <th>sign</th>\n      <th>code</th>\n      <th>energyLevel</th>\n      <th>energyType</th>\n      <th>lastActivity</th>\n      <th>manufacturer</th>\n      <th>provider</th>\n      <th>time</th>\n      <th>yyyy</th>\n      <th>mm</th>\n      <th>dd</th>\n      <th>category</th>\n    </tr>\n  </thead>\n  <tbody>\n    <tr>\n      <th>0</th>\n      <td>Hamburg</td>\n      <td>Germany</td>\n      <td>53.540109</td>\n      <td>10.009807</td>\n      <td>okai</td>\n      <td>123WMV</td>\n      <td>280488</td>\n      <td>15</td>\n      <td>electric</td>\n      <td>2021-03-23T23:56:57Z</td>\n      <td>tier</td>\n      <td>tier</td>\n      <td>1616544846</td>\n      <td>2021</td>\n      <td>2021-03</td>\n      <td>2021-03-24</td>\n      <td>escooter</td>\n    </tr>\n    <tr>\n      <th>1</th>\n      <td>Hamburg</td>\n      <td>Germany</td>\n      <td>53.540109</td>\n      <td>10.009807</td>\n      <td>okai</td>\n      <td>123WMV</td>\n      <td>280488</td>\n      <td>15</td>\n      <td>electric</td>\n      <td>2021-03-23T23:56:57Z</td>\n      <td>tier</td>\n      <td>tier</td>\n      <td>1616544330</td>\n      <td>2021</td>\n      <td>2021-03</td>\n      <td>2021-03-24</td>\n      <td>escooter</td>\n    </tr>\n    <tr>\n      <th>2</th>\n      <td>Hamburg</td>\n      <td>Germany</td>\n      <td>53.540109</td>\n      <td>10.009807</td>\n      <td>okai</td>\n      <td>123WMV</td>\n      <td>280488</td>\n      <td>15</td>\n      <td>electric</td>\n      <td>2021-03-23T23:56:57Z</td>\n      <td>tier</td>\n      <td>tier</td>\n      <td>1616544097</td>\n      <td>2021</td>\n      <td>2021-03</td>\n      <td>2021-03-24</td>\n      <td>escooter</td>\n    </tr>\n    <tr>\n      <th>3</th>\n      <td>Hamburg</td>\n      <td>Germany</td>\n      <td>53.540109</td>\n      <td>10.009807</td>\n      <td>okai</td>\n      <td>123WMV</td>\n      <td>280488</td>\n      <td>15</td>\n      <td>electric</td>\n      <td>2021-03-23T23:56:57Z</td>\n      <td>tier</td>\n      <td>tier</td>\n      <td>1616544568</td>\n      <td>2021</td>\n      <td>2021-03</td>\n      <td>2021-03-24</td>\n      <td>escooter</td>\n    </tr>\n    <tr>\n      <th>4</th>\n      <td>Hamburg</td>\n      <td>Germany</td>\n      <td>53.540109</td>\n      <td>10.009807</td>\n      <td>okai</td>\n      <td>123WMV</td>\n      <td>280488</td>\n      <td>15</td>\n      <td>electric</td>\n      <td>2021-03-23T23:56:57Z</td>\n      <td>tier</td>\n      <td>tier</td>\n      <td>1616544440</td>\n      <td>2021</td>\n      <td>2021-03</td>\n      <td>2021-03-24</td>\n      <td>escooter</td>\n    </tr>\n  </tbody>\n</table>\n</div>"
     },
     "metadata": {},
     "execution_count": 17
    }
   ],
   "source": [
    "client.query(f\"SELECT * FROM `flas-h.mobility.tier` WHERE DATE(_PARTITIONTIME) = '{ args['execution_date'] }' AND city = '{ args['city'] }' LIMIT 10\").to_dataframe().head()"
   ]
  },
  {
   "cell_type": "code",
   "execution_count": null,
   "metadata": {},
   "outputs": [],
   "source": []
  }
 ]
}